{
  "nbformat": 4,
  "nbformat_minor": 0,
  "metadata": {
    "colab": {
      "name": "LUAssignmentDay2",
      "provenance": [],
      "collapsed_sections": []
    },
    "kernelspec": {
      "name": "python3",
      "display_name": "Python 3"
    }
  },
  "cells": [
    {
      "cell_type": "code",
      "metadata": {
        "id": "zTMwSYs__exO",
        "outputId": "70c7340f-33d7-4624-926c-9e2512ac0b24",
        "colab": {
          "base_uri": "https://localhost:8080/"
        }
      },
      "source": [
        "#question 1\n",
        "list1=list()\n",
        "even_list=list()\n",
        "for i in range(10):\n",
        "  x=int(input())\n",
        "  list1.append(x)\n",
        "for j in list1: \n",
        "  if(j%2==0):\n",
        "    even_list.append(j)\n",
        "print(even_list)\n",
        "   \n"
      ],
      "execution_count": null,
      "outputs": [
        {
          "output_type": "stream",
          "text": [
            "1\n",
            "2\n",
            "3\n",
            "4\n",
            "5\n",
            "6\n",
            "7\n",
            "8\n",
            "9\n",
            "10\n",
            "[2, 4, 6, 8, 10]\n"
          ],
          "name": "stdout"
        }
      ]
    },
    {
      "cell_type": "code",
      "metadata": {
        "id": "RYNTSd8gGgOu",
        "outputId": "718f1e14-ab14-47f5-95e0-d75c554541ed",
        "colab": {
          "base_uri": "https://localhost:8080/"
        }
      },
      "source": [
        "d=dict()\n",
        "n=int(input())\n",
        "for i in range(1,n+1):\n",
        " d[i]=i*i\n",
        "print(d)\n"
      ],
      "execution_count": null,
      "outputs": [
        {
          "output_type": "stream",
          "text": [
            "9\n",
            "{1: 1, 2: 4, 3: 9, 4: 16, 5: 25, 6: 36, 7: 49, 8: 64, 9: 81}\n"
          ],
          "name": "stdout"
        }
      ]
    },
    {
      "cell_type": "code",
      "metadata": {
        "id": "SWVuXTabV3Ct",
        "outputId": "f6b40587-0db6-482e-a74e-76825c816ec2",
        "colab": {
          "base_uri": "https://localhost:8080/"
        }
      },
      "source": [
        "#list comprehension\n",
        "numbers=[1,2,3,4]\n",
        "square=[n**2 for n in numbers]\n",
        "print(square)"
      ],
      "execution_count": 12,
      "outputs": [
        {
          "output_type": "stream",
          "text": [
            "[1, 4, 9, 16]\n"
          ],
          "name": "stdout"
        }
      ]
    }
  ]
}